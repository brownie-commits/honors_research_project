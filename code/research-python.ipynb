{
 "cells": [
  {
   "cell_type": "markdown",
   "id": "4a0ee602-235a-4ae9-9ff5-d437390bdbc2",
   "metadata": {},
   "source": [
    "Converting senior thesis project from R code to Python"
   ]
  },
  {
   "cell_type": "code",
   "execution_count": null,
   "id": "6bf2736f-0521-46d3-912f-19e6a9d56eb8",
   "metadata": {},
   "outputs": [],
   "source": []
  }
 ],
 "metadata": {
  "kernelspec": {
   "display_name": "Python [conda env:base] *",
   "language": "python",
   "name": "conda-base-py"
  },
  "language_info": {
   "codemirror_mode": {
    "name": "ipython",
    "version": 3
   },
   "file_extension": ".py",
   "mimetype": "text/x-python",
   "name": "python",
   "nbconvert_exporter": "python",
   "pygments_lexer": "ipython3",
   "version": "3.12.7"
  }
 },
 "nbformat": 4,
 "nbformat_minor": 5
}
